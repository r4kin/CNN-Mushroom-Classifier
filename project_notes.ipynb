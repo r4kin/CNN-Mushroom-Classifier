{
 "cells": [
  {
   "cell_type": "markdown",
   "metadata": {},
   "source": [
    "- c++ compiler: https://winlibs.com/\n",
    "- vs code w/ c++ extension pack\n",
    "- bash code ex:"
   ]
  },
  {
   "cell_type": "code",
   "execution_count": null,
   "metadata": {
    "vscode": {
     "languageId": "plaintext"
    }
   },
   "outputs": [],
   "source": [
    "g++ src/tests/matrix_test.cpp src/cnn/matrix.cpp -o build/debug/matrix_test -I include\n",
    "./build/debug/matrix_test"
   ]
  }
 ],
 "metadata": {
  "language_info": {
   "name": "python"
  }
 },
 "nbformat": 4,
 "nbformat_minor": 2
}
